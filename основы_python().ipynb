{
  "cells": [
    {
      "cell_type": "code",
      "execution_count": 1,
      "metadata": {
        "id": "Uq4Srhe3FhD8"
      },
      "outputs": [],
      "source": [
        "import unittest\n",
        "from collections import defaultdict"
      ]
    },
    {
      "cell_type": "markdown",
      "metadata": {
        "id": "M-DGa20PaHnu"
      },
      "source": [
        "# Задача 1\n",
        "Написать функцию на вход которой подается строка, состоящая из латинских букв.\n",
        "Функция должна вернуть количество гласных букв (a, e, i, o, u) в этой строке. Написать тесты для кода"
      ]
    },
    {
      "cell_type": "code",
      "execution_count": 2,
      "metadata": {
        "id": "XvX8X_JJ6PCb"
      },
      "outputs": [],
      "source": [
        "def vowel_count(string):\n",
        "    vowels = 'aeiou'\n",
        "    string = string.lower()\n",
        "    count = 0\n",
        "    for char in string:\n",
        "        if char in vowels:\n",
        "            count += 1\n",
        "    return count"
      ]
    },
    {
      "cell_type": "code",
      "execution_count": 3,
      "metadata": {
        "id": "sT8vGjycFhD_"
      },
      "outputs": [],
      "source": [
        "class TestVowelCount(unittest.TestCase):\n",
        "    def test_empty_string(self):\n",
        "        self.assertEqual(vowel_count(''), 0)\n",
        "\n",
        "    def test_no_vowels(self):\n",
        "        self.assertEqual(vowel_count('xyz'), 0)\n",
        "\n",
        "    def test_all_vowels(self):\n",
        "        self.assertEqual(vowel_count('AEIOUaeiou'), 10)\n",
        "\n",
        "    def test_mixed_characters(self):\n",
        "        self.assertEqual(vowel_count('Python programming!'), 4)\n",
        "\n",
        "    def test_with_digits(self):\n",
        "        self.assertEqual(vowel_count('h3ll0 W0rld'), 0)\n",
        "\n",
        "    def test_repeated_vowels(self):\n",
        "        self.assertEqual(vowel_count('ooooOOOo'), 8)\n",
        "\n",
        "    def test_non_english_letters(self):\n",
        "        self.assertEqual(vowel_count('hello мир'), 2)"
      ]
    },
    {
      "cell_type": "markdown",
      "metadata": {
        "id": "t2ClV_Y0bbr6"
      },
      "source": [
        "# Задача 2\n",
        "Написать функцию на вход, которой подается строка. Функция должна вернуть true, если\n",
        "каждый символ в строке встречается только 1 раз, иначе должна вернуть false. Написать тесты для кода"
      ]
    },
    {
      "cell_type": "code",
      "execution_count": null,
      "metadata": {
        "id": "FppbECao6VIz"
      },
      "outputs": [],
      "source": [
        "def has_unique_characters(s):\n",
        "    char_seen = {}\n",
        "    for char in s:\n",
        "        if char in char_seen:\n",
        "            return False\n",
        "        char_seen[char] = True\n",
        "    return True"
      ]
    },
    {
      "cell_type": "code",
      "execution_count": null,
      "metadata": {
        "id": "NU1O-OBAFhEA"
      },
      "outputs": [],
      "source": [
        "class TestHasUniqueCharacters(unittest.TestCase):\n",
        "    def test_empty_string(self):\n",
        "        self.assertTrue(has_unique_characters(''))\n",
        "\n",
        "    def test_single_character(self):\n",
        "        self.assertTrue(has_unique_characters('x'))\n",
        "\n",
        "    def test_all_unique(self):\n",
        "        self.assertTrue(has_unique_characters('python'))\n",
        "\n",
        "    def test_with_duplicates(self):\n",
        "        self.assertFalse(has_unique_characters('hello'))\n",
        "\n",
        "    def test_case_sensitive(self):\n",
        "        self.assertTrue(has_unique_characters('aA'))\n",
        "        self.assertFalse(has_unique_characters('AaA'))\n",
        "\n",
        "    def test_special_characters(self):\n",
        "        self.assertTrue(has_unique_characters('!@#$%^'))\n",
        "        self.assertFalse(has_unique_characters('!@#$%^!'))\n",
        "\n",
        "    def test_numbers(self):\n",
        "        self.assertTrue(has_unique_characters('123456'))\n",
        "        self.assertFalse(has_unique_characters('1123456'))"
      ]
    },
    {
      "cell_type": "markdown",
      "metadata": {
        "id": "udRiIK1cdt6E"
      },
      "source": [
        "# Задача 3\n",
        "Написать функцию, которая принимает положительное число и возвращает количество\n",
        "бит равных 1 в этом числе. Написать тесты для кода"
      ]
    },
    {
      "cell_type": "code",
      "execution_count": null,
      "metadata": {
        "id": "AlmP2zlxFhEB"
      },
      "outputs": [],
      "source": [
        "def bit_count(n):\n",
        "    return bin(n).count('1')"
      ]
    },
    {
      "cell_type": "code",
      "execution_count": null,
      "metadata": {
        "id": "htn3mcoYFhEB"
      },
      "outputs": [],
      "source": [
        "class TestBitCount(unittest.TestCase):\n",
        "    def test_zero(self):\n",
        "        self.assertEqual(bit_count(0), 0)\n",
        "\n",
        "    def test_one(self):\n",
        "        self.assertEqual(bit_count(1), 1)\n",
        "\n",
        "    def test_power_of_two(self):\n",
        "        self.assertEqual(bit_count(2), 1)\n",
        "        self.assertEqual(bit_count(16), 1)\n",
        "\n",
        "    def test_multiple_bits(self):\n",
        "        self.assertEqual(bit_count(3), 2)\n",
        "        self.assertEqual(bit_count(7), 3)\n",
        "        self.assertEqual(bit_count(31), 5)\n",
        "\n",
        "    def test_large_number(self):\n",
        "        self.assertEqual(bit_count(2**16 - 1), 16)\n"
      ]
    },
    {
      "cell_type": "markdown",
      "metadata": {
        "id": "26dDUz-Ae17N"
      },
      "source": [
        "# Задача 4\n",
        "Написать функцию, которая принимает положительное число. Функция должна вернуть то,\n",
        "сколько раз необходимо перемножать цифры числа или результат перемножения, чтобы\n",
        "получилось число состоящее из одной цифры.\n",
        "Например, для входного числа:\n",
        "· 39 функция должна вернуть 3, так как 3*9=27 => 2*7=14 => 1*4=4\n",
        "· 4 функция должна вернуть 0, так как число уже состоит из одной цифры\n",
        "· 999 функция должна вернуть 4, так как 9*9*9=729 => 7*2*9=126 => 1*2*6=12 =>\n",
        "1*2=2. Написать тесты для кода"
      ]
    },
    {
      "cell_type": "code",
      "execution_count": null,
      "metadata": {
        "id": "BH1A_Mgi6i4G"
      },
      "outputs": [],
      "source": [
        "def persistence_steps(num):\n",
        "    steps = 0\n",
        "    while num >= 10:\n",
        "        product = 1\n",
        "        while num > 0:\n",
        "            product *= num % 10\n",
        "            num //= 10\n",
        "        num = product\n",
        "        steps += 1\n",
        "    return steps"
      ]
    },
    {
      "cell_type": "code",
      "execution_count": null,
      "metadata": {
        "id": "4OSJ1bqsFhEC"
      },
      "outputs": [],
      "source": [
        "class TestPersistenceSteps(unittest.TestCase):\n",
        "    def test_single_digit(self):\n",
        "        self.assertEqual(persistence_steps(4), 0)\n",
        "\n",
        "    def test_example_39(self):\n",
        "        self.assertEqual(persistence_steps(39), 3)\n",
        "\n",
        "    def test_example_999(self):\n",
        "        self.assertEqual(persistence_steps(999), 4)\n",
        "\n",
        "    def test_all_single_digit_numbers(self):\n",
        "        for i in range(10):\n",
        "            self.assertEqual(persistence_steps(i), 0)\n",
        "\n",
        "    def test_various_two_digit_numbers(self):\n",
        "        self.assertEqual(persistence_steps(10), 1)\n",
        "        self.assertEqual(persistence_steps(25), 2)\n",
        "\n",
        "    def test_large_number(self):\n",
        "        self.assertEqual(persistence_steps(277777788888899), 11)"
      ]
    },
    {
      "cell_type": "markdown",
      "metadata": {
        "id": "0nS-kIa8g8vd"
      },
      "source": [
        "# Задача 5\n",
        "Написать функцию, которая принимает два целочисленных вектора одинаковой длины и\n",
        "возвращает среднеквадратическое отклонение двух векторов. Написать тесты для кода"
      ]
    },
    {
      "cell_type": "code",
      "execution_count": null,
      "metadata": {
        "id": "-J3HNtk-FhED"
      },
      "outputs": [],
      "source": [
        "def calculate_mse(vec1, vec2):\n",
        "    if len(vec1) != len(vec2):\n",
        "        return \"Векторы должны быть одинаковой длины\"\n",
        "\n",
        "    n = len(vec1)\n",
        "    if n == 0:\n",
        "        return \"Векторы не должны быть пустыми\"\n",
        "\n",
        "    total_squared_diff = sum((x - y) ** 2 for x, y in zip(vec1, vec2))\n",
        "    return total_squared_diff / n"
      ]
    },
    {
      "cell_type": "code",
      "execution_count": null,
      "metadata": {
        "id": "dI7oMfSFFhED"
      },
      "outputs": [],
      "source": [
        "class TestCalculateMSE(unittest.TestCase):\n",
        "    def test_identical_vectors(self):\n",
        "        self.assertEqual(calculate_mse([1, 2, 3], [1, 2, 3]), 0.0)\n",
        "\n",
        "    def test_different_vectors(self):\n",
        "        self.assertEqual(calculate_mse([1, 2, 3], [4, 5, 6]), 9.0)\n",
        "\n",
        "    def test_negative_numbers(self):\n",
        "        self.assertEqual(calculate_mse([-1, -2, -3], [-1, -2, -3]), 0.0)\n",
        "        self.assertEqual(calculate_mse([-1, -2, -3], [1, 2, 3]), 18.666666666666668)\n",
        "\n",
        "    def test_with_zeros(self):\n",
        "        self.assertEqual(calculate_mse([0, 0, 0], [0, 0, 0]), 0.0)\n",
        "        self.assertEqual(calculate_mse([0, 1, 2], [2, 1, 0]), 2.6666666666666665)\n",
        "\n",
        "    def test_single_element(self):\n",
        "        self.assertEqual(calculate_mse([5], [5]), 0.0)\n",
        "        self.assertEqual(calculate_mse([5], [3]), 4.0)\n",
        "\n",
        "    def test_empty_vectors(self):\n",
        "        self.assertEqual(calculate_mse([], []), \"Векторы не должны быть пустыми\")\n",
        "\n",
        "    def test_different_length_vectors(self):\n",
        "        self.assertEqual(calculate_mse([1, 2], [1, 2, 3]), \"Векторы должны быть одинаковой длины\")\n",
        "        self.assertEqual(calculate_mse([1], [1, 2]), \"Векторы должны быть одинаковой длины\")\n",
        "\n",
        "    def test_large_vectors(self):\n",
        "        pred = list(range(1000))\n",
        "        true = list(range(1000))\n",
        "        self.assertEqual(calculate_mse(pred, true), 0.0)\n",
        "\n",
        "        true = list(range(1000, 2000))\n",
        "        expected_mse = sum((pred[i] - true[i]) ** 2 for i in range(1000)) / 1000\n",
        "        self.assertEqual(calculate_mse(pred, true), expected_mse)"
      ]
    },
    {
      "cell_type": "markdown",
      "metadata": {
        "id": "vpIPKL439zkw"
      },
      "source": [
        "# Задача 6\n",
        "Написать функцию, принимающая целое положительное число. Функция должна вернуть\n",
        "строку вида “(n1**p1)(n2**p2)…(nk**pk)” представляющая разложение числа на простые\n",
        "множители (если pi == 1, то выводить только ni).\n",
        "Например, для числа 86240 функция должна вернуть “(2**5)(5)(7**2)(11)”. Написать тесты для кода"
      ]
    },
    {
      "cell_type": "code",
      "execution_count": null,
      "metadata": {
        "id": "VLd7BnIsFhED"
      },
      "outputs": [],
      "source": [
        "def divide(n):\n",
        "    dct = defaultdict(int)\n",
        "    st = set()\n",
        "    d = 2\n",
        "    while n != 1:\n",
        "        if n%d == 0:\n",
        "            n //= d\n",
        "            dct[d] += 1\n",
        "            st.add(d)\n",
        "        else:\n",
        "            d += 1\n",
        "    st = list(st)\n",
        "    st.sort()\n",
        "    a = ''\n",
        "    for i in st:\n",
        "        if dct[i] == 1 :\n",
        "            a += f'({str(i)})'\n",
        "        else:\n",
        "            a += f'({str(i)}**{str(dct[i])})'\n",
        "    return a"
      ]
    },
    {
      "cell_type": "code",
      "execution_count": null,
      "metadata": {
        "id": "bid1hgKmFhED"
      },
      "outputs": [],
      "source": [
        "class TestDivideFunction(unittest.TestCase):\n",
        "    def test_single_prime(self):\n",
        "        self.assertEqual(divide(2), \"(2)\")\n",
        "        self.assertEqual(divide(13), \"(13)\")\n",
        "        self.assertEqual(divide(9973), \"(9973)\")\n",
        "\n",
        "    def test_single_composite_power(self):\n",
        "        self.assertEqual(divide(4), \"(2**2)\")\n",
        "        self.assertEqual(divide(27), \"(3**3)\")\n",
        "        self.assertEqual(divide(125), \"(5**3)\")\n",
        "\n",
        "    def test_multiple_primes(self):\n",
        "        self.assertEqual(divide(6), \"(2)(3)\")\n",
        "        self.assertEqual(divide(12), \"(2**2)(3)\")\n",
        "        self.assertEqual(divide(360), \"(2**3)(3**2)(5)\")\n",
        "        self.assertEqual(divide(100), \"(2**2)(5**2)\")\n",
        "\n",
        "    def test_large_number(self):\n",
        "        self.assertEqual(divide(86240), \"(2**5)(5)(7**2)(11)\")\n",
        "\n",
        "    def test_one(self):\n",
        "        self.assertEqual(divide(1), \"\")"
      ]
    },
    {
      "cell_type": "markdown",
      "metadata": {
        "id": "ps2s0BudX7A2"
      },
      "source": [
        "# Задача 7\n",
        "Написать функцию, принимающая целое число n, задающее количество кубиков. Функция\n",
        "должна определить, можно ли из данного кол-ва кубиков построить пирамиду, то есть\n",
        "можно ли представить число n как 1^2+2^2+3^2+…+k^2. Если можно, то функция должна\n",
        "вернуть k, иначе строку “It is impossible”. Написать тесты для кода"
      ]
    },
    {
      "cell_type": "code",
      "execution_count": null,
      "metadata": {
        "id": "3YPjEXxhX_YT"
      },
      "outputs": [],
      "source": [
        "def can_build_pyramid(cubes):\n",
        "    if not isinstance(cubes, int) or cubes < 1:\n",
        "        return \"Это невозможно\"\n",
        "\n",
        "    k = 0\n",
        "    total_cubes = cubes\n",
        "\n",
        "    while total_cubes > 0:\n",
        "        k += 1\n",
        "        total_cubes -= k ** 2\n",
        "\n",
        "        if total_cubes == 0:\n",
        "            return k\n",
        "\n",
        "    return \"Это невозможно\""
      ]
    },
    {
      "cell_type": "code",
      "execution_count": null,
      "metadata": {
        "id": "W7527l35FhEE"
      },
      "outputs": [],
      "source": [
        "class TestCanBuildPyramid(unittest.TestCase):\n",
        "    def test_single_cube(self):\n",
        "        self.assertEqual(can_build_pyramid(1), 1)\n",
        "\n",
        "    def test_two_cubes_impossible(self):\n",
        "        self.assertEqual(can_build_pyramid(2), \"Это невозможно\")\n",
        "\n",
        "    def test_five_cubes(self):\n",
        "        self.assertEqual(can_build_pyramid(5), 2)\n",
        "\n",
        "    def test_fourteen_cubes(self):\n",
        "        self.assertEqual(can_build_pyramid(14), 3)\n",
        "\n",
        "    def test_thirty_cubes(self):\n",
        "        self.assertEqual(can_build_pyramid(30), 4)\n",
        "\n",
        "    def test_fifty_five_cubes(self):\n",
        "        self.assertEqual(can_build_pyramid(55), 5)\n",
        "\n",
        "    def test_impossible_numbers(self):\n",
        "        self.assertEqual(can_build_pyramid(7), \"Это невозможно\")\n",
        "        self.assertEqual(can_build_pyramid(10), \"Это невозможно\")\n",
        "        self.assertEqual(can_build_pyramid(20), \"Это невозможно\")\n",
        "\n",
        "    def test_large_pyramid(self):\n",
        "        self.assertEqual(can_build_pyramid(385), 10)\n",
        "\n",
        "    def test_zero_cubes(self):\n",
        "        self.assertEqual(can_build_pyramid(0), \"Это невозможно\")\n",
        "\n",
        "    def test_negative_number(self):\n",
        "        self.assertEqual(can_build_pyramid(-5), \"Это невозможно\")\n",
        "\n",
        "    def test_non_integer_input(self):\n",
        "        self.assertEqual(can_build_pyramid(3.5), \"Это невозможно\")\n",
        "        self.assertEqual(can_build_pyramid(\"16\"), \"Это невозможно\")"
      ]
    },
    {
      "cell_type": "markdown",
      "metadata": {
        "id": "KeKgmIdAQMEJ"
      },
      "source": [
        "# Задача 8\n",
        "Функция принимает на вход положительное число и определяет является ли оно сбалансированным, т.е. сумма цифр до средних равна сумме цифр после. Средними в случае нечетного числа цифр считать одну цифру, в случае четного - две средних. Написать тесты для кода"
      ]
    },
    {
      "cell_type": "code",
      "execution_count": 7,
      "metadata": {
        "id": "gMAAqtqlQrZt"
      },
      "outputs": [],
      "source": [
        "def is_number_balanced(n):\n",
        "    a = [0,0]\n",
        "    n = str(n)\n",
        "    if len(n)%2==0:\n",
        "        divider = (len(n)//2)\n",
        "        for i in range(divider-1):\n",
        "            a[0]+=int(n[i])\n",
        "        for i in range(divider+1,len(n)):\n",
        "            a[1]+=int(n[i])\n",
        "    else:\n",
        "        divider = (len(n)-1)//2\n",
        "        for i in range(divider):\n",
        "            a[0]+=int(n[i])\n",
        "        for i in range(divider+1,len(n)):\n",
        "            a[1]+=int(n[i])\n",
        "\n",
        "    if a[0]==a[1]:\n",
        "        return True\n",
        "    else:\n",
        "        return False\n",
        "\n",
        "class TestIsNumberBalanced(unittest.TestCase):\n",
        "    def test_single_digit(self):\n",
        "        self.assertTrue(is_number_balanced(1))\n",
        "        self.assertTrue(is_number_balanced(5))\n",
        "        self.assertTrue(is_number_balanced(9))\n",
        "\n",
        "    def test_two_digits_balanced(self):\n",
        "        self.assertTrue(is_number_balanced(11))\n",
        "        self.assertTrue(is_number_balanced(22))\n",
        "        self.assertTrue(is_number_balanced(99))\n",
        "        self.assertTrue(is_number_balanced(12))\n",
        "\n",
        "    def test_three_digits_balanced(self):\n",
        "        self.assertTrue(is_number_balanced(121))\n",
        "        self.assertTrue(is_number_balanced(343))\n",
        "        self.assertTrue(is_number_balanced(989))\n",
        "\n",
        "    def test_three_digits_unbalanced(self):\n",
        "        self.assertFalse(is_number_balanced(123))\n",
        "        self.assertFalse(is_number_balanced(135))\n",
        "        self.assertFalse(is_number_balanced(987))\n",
        "\n",
        "    def test_four_digits_balanced(self):\n",
        "        self.assertTrue(is_number_balanced(1221))\n",
        "        self.assertTrue(is_number_balanced(3443))\n",
        "        self.assertTrue(is_number_balanced(5665))\n",
        "\n",
        "    def test_four_digits_unbalanced(self):\n",
        "        self.assertFalse(is_number_balanced(1234))\n",
        "        self.assertFalse(is_number_balanced(1456))\n",
        "        self.assertFalse(is_number_balanced(7890))\n",
        "\n",
        "    def test_multiple_digits_balanced(self):\n",
        "        self.assertTrue(is_number_balanced(1238033))\n",
        "        self.assertTrue(is_number_balanced(5525))\n",
        "\n",
        "    def test_multiple_digits_unbalanced(self):\n",
        "        self.assertFalse(is_number_balanced(123450))\n",
        "        self.assertFalse(is_number_balanced(987654))\n",
        "        self.assertFalse(is_number_balanced(112233))\n",
        "\n",
        "    def test_large_balanced_number(self):\n",
        "        self.assertTrue(is_number_balanced(1234567890987654321))\n",
        "\n",
        "    def test_large_unbalanced_number(self):\n",
        "        self.assertFalse(is_number_balanced(1234567890123456790))\n"
      ]
    },
    {
      "cell_type": "markdown",
      "metadata": {
        "id": "nJCulp_hFhEF"
      },
      "source": [
        "# Запуск тестов"
      ]
    },
    {
      "cell_type": "code",
      "execution_count": 8,
      "metadata": {
        "colab": {
          "base_uri": "https://localhost:8080/"
        },
        "id": "3D5tlWREFhEF",
        "outputId": "e0116923-af97-4dd1-d9b0-dfd71ac3e9c0"
      },
      "outputs": [
        {
          "output_type": "stream",
          "name": "stderr",
          "text": [
            "...........................\n",
            "----------------------------------------------------------------------\n",
            "Ran 27 tests in 0.046s\n",
            "\n",
            "OK\n"
          ]
        },
        {
          "output_type": "execute_result",
          "data": {
            "text/plain": [
              "<unittest.main.TestProgram at 0x7fa95da1efb0>"
            ]
          },
          "metadata": {},
          "execution_count": 8
        }
      ],
      "source": [
        "unittest.main(argv=[''], exit=False)"
      ]
    }
  ],
  "metadata": {
    "colab": {
      "provenance": []
    },
    "kernelspec": {
      "display_name": "Python 3 (ipykernel)",
      "language": "python",
      "name": "python3"
    },
    "language_info": {
      "codemirror_mode": {
        "name": "ipython",
        "version": 3
      },
      "file_extension": ".py",
      "mimetype": "text/x-python",
      "name": "python",
      "nbconvert_exporter": "python",
      "pygments_lexer": "ipython3",
      "version": "3.12.4"
    }
  },
  "nbformat": 4,
  "nbformat_minor": 0
}